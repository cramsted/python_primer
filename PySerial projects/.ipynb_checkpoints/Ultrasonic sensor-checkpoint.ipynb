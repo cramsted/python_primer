{
 "cells": [
  {
   "cell_type": "code",
   "execution_count": 5,
   "metadata": {
    "collapsed": false
   },
   "outputs": [
    {
     "name": "stdout",
     "output_type": "stream",
     "text": [
      "b'Nano 1\\r\\n'\n",
      "b'Nano 2\\r\\n'\n",
      "b'Nano 1\\r\\n'\n",
      "b'Nano 2\\r\\n'\n",
      "b'Nano 1\\r\\n'\n",
      "b'Nano 2\\r\\n'\n",
      "b'Nano 1\\r\\n'\n",
      "b'Nano 2\\r\\n'\n",
      "b'Nano 1\\r\\n'\n",
      "b'Nano 2\\r\\n'\n",
      "b'Nano 1\\r\\n'\n",
      "b'Nano 2\\r\\n'\n",
      "b'Nano 1\\r\\n'\n",
      "b'Nano 2\\r\\n'\n",
      "b'Nano 1\\r\\n'\n",
      "b'Nano 2\\r\\n'\n",
      "b'Nano 1\\r\\n'\n",
      "b'Nano 2\\r\\n'\n",
      "b'Nano 1\\r\\n'\n",
      "b'Nano 2\\r\\n'\n",
      "b'Nano 1\\r\\n'\n",
      "b'Nano 2\\r\\n'\n"
     ]
    },
    {
     "ename": "KeyboardInterrupt",
     "evalue": "",
     "output_type": "error",
     "traceback": [
      "\u001b[1;31m---------------------------------------------------------------------------\u001b[0m",
      "\u001b[1;31mKeyboardInterrupt\u001b[0m                         Traceback (most recent call last)",
      "\u001b[1;32m<ipython-input-5-0ef4ec867217>\u001b[0m in \u001b[0;36m<module>\u001b[1;34m()\u001b[0m\n\u001b[0;32m      6\u001b[0m \u001b[0mser2\u001b[0m \u001b[1;33m=\u001b[0m \u001b[0mserial\u001b[0m\u001b[1;33m.\u001b[0m\u001b[0mSerial\u001b[0m\u001b[1;33m(\u001b[0m\u001b[1;34m'/dev/ttyUSB2'\u001b[0m\u001b[1;33m,\u001b[0m \u001b[1;36m9600\u001b[0m\u001b[1;33m)\u001b[0m\u001b[1;33m\u001b[0m\u001b[0m\n\u001b[0;32m      7\u001b[0m \u001b[1;32mwhile\u001b[0m \u001b[1;32mTrue\u001b[0m\u001b[1;33m:\u001b[0m\u001b[1;33m\u001b[0m\u001b[0m\n\u001b[1;32m----> 8\u001b[1;33m     \u001b[0msleep\u001b[0m\u001b[1;33m(\u001b[0m\u001b[1;36m.8\u001b[0m\u001b[1;33m)\u001b[0m\u001b[1;33m\u001b[0m\u001b[0m\n\u001b[0m\u001b[0;32m      9\u001b[0m     \u001b[1;32mif\u001b[0m \u001b[0mser\u001b[0m\u001b[1;33m.\u001b[0m\u001b[0minWaiting\u001b[0m\u001b[1;33m(\u001b[0m\u001b[1;33m)\u001b[0m\u001b[1;33m:\u001b[0m\u001b[1;33m\u001b[0m\u001b[0m\n\u001b[0;32m     10\u001b[0m         \u001b[0mprint\u001b[0m\u001b[1;33m(\u001b[0m\u001b[0mser\u001b[0m\u001b[1;33m.\u001b[0m\u001b[0mreadline\u001b[0m\u001b[1;33m(\u001b[0m\u001b[1;33m)\u001b[0m\u001b[1;33m)\u001b[0m\u001b[1;33m\u001b[0m\u001b[0m\n",
      "\u001b[1;31mKeyboardInterrupt\u001b[0m: "
     ]
    }
   ],
   "source": [
    "#test code\n",
    "from time import sleep\n",
    "import serial\n",
    "\n",
    "ser1 = serial.Serial('/dev/ttyUSB0', 9600)\n",
    "ser2 = serial.Serial('/dev/ttyUSB1', 9600)\n",
    "ser3 = serial.Serial('/dev/ttyUSB2', 9600)\n",
    "ser4 = serial.Serial('/dev/ttyUSB3', 9600)\n",
    "\n",
    "while True: \n",
    "    sleep(.8)\n",
    "    if ser1.inWaiting():\n",
    "        print(ser1.readline())\n",
    "    if ser2.inWaiting(): \n",
    "        print(ser2.readline())\n",
    "    if ser3.inWaiting():\n",
    "        print(ser3.readline())\n",
    "    if ser4.inWaiting(): \n",
    "        print(ser4.readline())"
   ]
  },
  {
   "cell_type": "code",
   "execution_count": 3,
   "metadata": {
    "collapsed": false
   },
   "outputs": [
    {
     "ename": "SyntaxError",
     "evalue": "Missing parentheses in call to 'print' (<ipython-input-3-5fb433f56658>, line 20)",
     "output_type": "error",
     "traceback": [
      "\u001b[1;36m  File \u001b[1;32m\"<ipython-input-3-5fb433f56658>\"\u001b[1;36m, line \u001b[1;32m20\u001b[0m\n\u001b[1;33m    print temp\u001b[0m\n\u001b[1;37m             ^\u001b[0m\n\u001b[1;31mSyntaxError\u001b[0m\u001b[1;31m:\u001b[0m Missing parentheses in call to 'print'\n"
     ]
    }
   ],
   "source": [
    "#takes a series of inputs from the ultrasonic sensor on the arduino and then \n",
    "#graphs it as distance (inches) with respect to time (s)\n",
    "#Note: the sensor tends to give false readings over 1000 when pointed\n",
    "#at soft objects. Hard surfaces work better. \n",
    "from time import sleep\n",
    "import serial\n",
    "import numpy as np\n",
    "import matplotlib.pyplot as plt\n",
    "\n",
    "ser = serial.Serial('/dev/ttyACM1', 9600)\n",
    "vals = []\n",
    "capVals = 100\n",
    "\n",
    "while True: \n",
    "    if ser.inWaiting():\n",
    "        for i in range(capVals): \n",
    "            temp = ser.readline().replace(\"\\n\", \"\")\n",
    "            temp = temp.replace(\"\\r\", \"\")\n",
    "            vals.append(int(temp))\n",
    "            print(temp)\n",
    "            \n",
    "            sleep(.5)\n",
    "        break\n",
    "time = np.arange(capVals) / 2.0\n",
    "\n",
    "print(\"time \")\n",
    "print(time)\n",
    "print(\"vals\")\n",
    "print(vals)\n",
    "\n",
    "plt.plot(time, vals)\n",
    "plt.xlabel('time (s)')\n",
    "plt.ylabel('distance (inches)')\n",
    "plt.grid()\n",
    "plt.show()\n",
    "#check for serial data until some is waiting\n",
    "#collect 20 points of data in an numpy array\n",
    "#graph the results"
   ]
  },
  {
   "cell_type": "code",
   "execution_count": null,
   "metadata": {
    "collapsed": true
   },
   "outputs": [],
   "source": []
  },
  {
   "cell_type": "code",
   "execution_count": null,
   "metadata": {
    "collapsed": true
   },
   "outputs": [],
   "source": []
  }
 ],
 "metadata": {
  "anaconda-cloud": {},
  "kernelspec": {
   "display_name": "Python [Root]",
   "language": "python",
   "name": "Python [Root]"
  },
  "language_info": {
   "codemirror_mode": {
    "name": "ipython",
    "version": 3
   },
   "file_extension": ".py",
   "mimetype": "text/x-python",
   "name": "python",
   "nbconvert_exporter": "python",
   "pygments_lexer": "ipython3",
   "version": "3.5.2"
  }
 },
 "nbformat": 4,
 "nbformat_minor": 0
}
